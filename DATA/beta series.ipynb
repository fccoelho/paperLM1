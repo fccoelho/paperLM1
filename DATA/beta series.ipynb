{
 "cells": [
  {
   "cell_type": "code",
   "execution_count": 5,
   "metadata": {
    "collapsed": false
   },
   "outputs": [
    {
     "name": "stdout",
     "output_type": "stream",
     "text": [
      "Populating the interactive namespace from numpy and matplotlib\n"
     ]
    },
    {
     "name": "stderr",
     "output_type": "stream",
     "text": [
      "WARNING: pylab import has clobbered these variables: ['beta']\n",
      "`%matplotlib` prevents importing * from pylab and numpy\n"
     ]
    }
   ],
   "source": [
    "import pandas as pd\n",
    "%pylab inline"
   ]
  },
  {
   "cell_type": "code",
   "execution_count": 3,
   "metadata": {
    "collapsed": false
   },
   "outputs": [
    {
     "data": {
      "text/html": [
       "<div style=\"max-width:1500px;overflow:auto;\">\n",
       "<table border=\"1\" class=\"dataframe\">\n",
       "  <thead>\n",
       "    <tr style=\"text-align: right;\">\n",
       "      <th></th>\n",
       "      <th>SE</th>\n",
       "      <th>start</th>\n",
       "      <th>end</th>\n",
       "      <th>cases</th>\n",
       "      <th>Rt</th>\n",
       "      <th>Rt2</th>\n",
       "      <th>p1</th>\n",
       "      <th>lwr</th>\n",
       "      <th>upr</th>\n",
       "    </tr>\n",
       "  </thead>\n",
       "  <tbody>\n",
       "    <tr>\n",
       "      <th>0</th>\n",
       "      <td>1</td>\n",
       "      <td>1996-01-08</td>\n",
       "      <td>1996-01-14</td>\n",
       "      <td>16</td>\n",
       "      <td>NaN</td>\n",
       "      <td>NaN</td>\n",
       "      <td>NaN</td>\n",
       "      <td>NaN</td>\n",
       "      <td>NaN</td>\n",
       "    </tr>\n",
       "    <tr>\n",
       "      <th>1</th>\n",
       "      <td>2</td>\n",
       "      <td>1996-01-15</td>\n",
       "      <td>1996-01-21</td>\n",
       "      <td>24</td>\n",
       "      <td>NaN</td>\n",
       "      <td>NaN</td>\n",
       "      <td>NaN</td>\n",
       "      <td>NaN</td>\n",
       "      <td>NaN</td>\n",
       "    </tr>\n",
       "    <tr>\n",
       "      <th>2</th>\n",
       "      <td>3</td>\n",
       "      <td>1996-01-22</td>\n",
       "      <td>1996-01-28</td>\n",
       "      <td>20</td>\n",
       "      <td>NaN</td>\n",
       "      <td>NaN</td>\n",
       "      <td>NaN</td>\n",
       "      <td>NaN</td>\n",
       "      <td>NaN</td>\n",
       "    </tr>\n",
       "    <tr>\n",
       "      <th>3</th>\n",
       "      <td>4</td>\n",
       "      <td>1996-01-29</td>\n",
       "      <td>1996-02-04</td>\n",
       "      <td>18</td>\n",
       "      <td>1.033333</td>\n",
       "      <td>1.021385</td>\n",
       "      <td>0.572089</td>\n",
       "      <td>0.706770</td>\n",
       "      <td>1.429324</td>\n",
       "    </tr>\n",
       "    <tr>\n",
       "      <th>4</th>\n",
       "      <td>5</td>\n",
       "      <td>1996-02-05</td>\n",
       "      <td>1996-02-11</td>\n",
       "      <td>23</td>\n",
       "      <td>0.983871</td>\n",
       "      <td>0.973373</td>\n",
       "      <td>0.463955</td>\n",
       "      <td>0.674286</td>\n",
       "      <td>1.360001</td>\n",
       "    </tr>\n",
       "    <tr>\n",
       "      <th>5</th>\n",
       "      <td>6</td>\n",
       "      <td>1996-02-12</td>\n",
       "      <td>1996-02-18</td>\n",
       "      <td>37</td>\n",
       "      <td>1.278689</td>\n",
       "      <td>1.261523</td>\n",
       "      <td>0.926204</td>\n",
       "      <td>0.893382</td>\n",
       "      <td>1.736014</td>\n",
       "    </tr>\n",
       "    <tr>\n",
       "      <th>6</th>\n",
       "      <td>7</td>\n",
       "      <td>1996-02-19</td>\n",
       "      <td>1996-02-25</td>\n",
       "      <td>44</td>\n",
       "      <td>1.333333</td>\n",
       "      <td>1.318898</td>\n",
       "      <td>0.973506</td>\n",
       "      <td>0.975808</td>\n",
       "      <td>1.748396</td>\n",
       "    </tr>\n",
       "    <tr>\n",
       "      <th>7</th>\n",
       "      <td>8</td>\n",
       "      <td>1996-02-26</td>\n",
       "      <td>1996-03-03</td>\n",
       "      <td>53</td>\n",
       "      <td>1.288462</td>\n",
       "      <td>1.278173</td>\n",
       "      <td>0.974450</td>\n",
       "      <td>0.983213</td>\n",
       "      <td>1.636839</td>\n",
       "    </tr>\n",
       "    <tr>\n",
       "      <th>8</th>\n",
       "      <td>9</td>\n",
       "      <td>1996-03-04</td>\n",
       "      <td>1996-03-10</td>\n",
       "      <td>62</td>\n",
       "      <td>1.186567</td>\n",
       "      <td>1.179594</td>\n",
       "      <td>0.928333</td>\n",
       "      <td>0.932286</td>\n",
       "      <td>1.473776</td>\n",
       "    </tr>\n",
       "    <tr>\n",
       "      <th>9</th>\n",
       "      <td>10</td>\n",
       "      <td>1996-03-11</td>\n",
       "      <td>1996-03-17</td>\n",
       "      <td>110</td>\n",
       "      <td>1.415094</td>\n",
       "      <td>1.407249</td>\n",
       "      <td>0.999638</td>\n",
       "      <td>1.144283</td>\n",
       "      <td>1.715167</td>\n",
       "    </tr>\n",
       "  </tbody>\n",
       "</table>\n",
       "</div>"
      ],
      "text/plain": [
       "   SE       start         end  cases        Rt       Rt2        p1       lwr  \\\n",
       "0   1  1996-01-08  1996-01-14     16       NaN       NaN       NaN       NaN   \n",
       "1   2  1996-01-15  1996-01-21     24       NaN       NaN       NaN       NaN   \n",
       "2   3  1996-01-22  1996-01-28     20       NaN       NaN       NaN       NaN   \n",
       "3   4  1996-01-29  1996-02-04     18  1.033333  1.021385  0.572089  0.706770   \n",
       "4   5  1996-02-05  1996-02-11     23  0.983871  0.973373  0.463955  0.674286   \n",
       "5   6  1996-02-12  1996-02-18     37  1.278689  1.261523  0.926204  0.893382   \n",
       "6   7  1996-02-19  1996-02-25     44  1.333333  1.318898  0.973506  0.975808   \n",
       "7   8  1996-02-26  1996-03-03     53  1.288462  1.278173  0.974450  0.983213   \n",
       "8   9  1996-03-04  1996-03-10     62  1.186567  1.179594  0.928333  0.932286   \n",
       "9  10  1996-03-11  1996-03-17    110  1.415094  1.407249  0.999638  1.144283   \n",
       "\n",
       "        upr  \n",
       "0       NaN  \n",
       "1       NaN  \n",
       "2       NaN  \n",
       "3  1.429324  \n",
       "4  1.360001  \n",
       "5  1.736014  \n",
       "6  1.748396  \n",
       "7  1.636839  \n",
       "8  1.473776  \n",
       "9  1.715167  "
      ]
     },
     "execution_count": 3,
     "metadata": {},
     "output_type": "execute_result"
    }
   ],
   "source": [
    "df = pd.read_csv('data_Rt_dengue_complete.csv')\n",
    "df[:10]"
   ]
  },
  {
   "cell_type": "code",
   "execution_count": 13,
   "metadata": {
    "collapsed": false
   },
   "outputs": [
    {
     "data": {
      "image/png": "[encoded data removed]",
      "text/plain": [
       "<matplotlib.figure.Figure at 0x7f92c96cac88>"
      ]
     },
     "metadata": {},
     "output_type": "display_data"
    }
   ],
   "source": [
    "df['beta'] = (df.Rt*1/7)/0.21\n",
    "df.beta.plot();\n",
    "plt.grid();"
   ]
  },
  {
   "cell_type": "code",
   "execution_count": 14,
   "metadata": {
    "collapsed": false
   },
   "outputs": [
    {
     "data": {
      "image/png": "[encoded data removed]",
      "text/plain": [
       "<matplotlib.figure.Figure at 0x7f92c9632ef0>"
      ]
     },
     "metadata": {},
     "output_type": "display_data"
    }
   ],
   "source": [
    "df['beta2'] = (df.Rt2*1/7)/0.21\n",
    "df.beta2.plot();\n",
    "plt.grid();"
   ]
  },
  {
   "cell_type": "code",
   "execution_count": 15,
   "metadata": {
    "collapsed": true
   },
   "outputs": [],
   "source": [
    "df.to_csv(\"beta_t.csv\")"
   ]
  },
  {
   "cell_type": "code",
   "execution_count": null,
   "metadata": {
    "collapsed": true
   },
   "outputs": [],
   "source": []
  }
 ],
 "metadata": {
  "kernelspec": {
   "display_name": "Python 3",
   "language": "python",
   "name": "python3"
  },
  "language_info": {
   "name": "python",
   "version": "3.5.1"
  }
 },
 "nbformat": 4,
 "nbformat_minor": 0
}
